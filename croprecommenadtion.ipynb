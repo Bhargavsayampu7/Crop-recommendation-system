{
 "cells": [
  {
   "cell_type": "code",
   "execution_count": 1,
   "metadata": {},
   "outputs": [],
   "source": [
    "import numpy as np"
   ]
  },
  {
   "cell_type": "code",
   "execution_count": 2,
   "metadata": {},
   "outputs": [],
   "source": [
    "import pandas as pd\n",
    "from sklearn.model_selection import train_test_split\n",
    "from sklearn.preprocessing import StandardScaler\n",
    "from sklearn.neighbors import KNeighborsClassifier\n",
    "from sklearn.ensemble import RandomForestClassifier\n",
    "from sklearn.metrics import accuracy_score"
   ]
  },
  {
   "cell_type": "code",
   "execution_count": 3,
   "metadata": {},
   "outputs": [],
   "source": [
    "# Load dataset\n",
    "crop = pd.read_csv('Crop_recommendation.csv')"
   ]
  },
  {
   "cell_type": "code",
   "execution_count": 4,
   "metadata": {},
   "outputs": [],
   "source": [
    "# Map crop labels to numerical values\n",
    "crop_dict = {\n",
    "    'rice': 1, 'maize': 2, 'jute': 3, 'cotton': 4, 'coconut': 5, 'papaya': 6,\n",
    "    'orange': 7, 'apple': 8, 'muskmelon': 9, 'watermelon': 10, 'grapes': 11,\n",
    "    'mango': 12, 'banana': 13, 'pomegranate': 14, 'lentil': 15, 'blackgram': 16,\n",
    "    'mungbean': 17, 'mothbeans': 18, 'pigeonpeas': 19, 'kidneybeans': 20,\n",
    "    'chickpea': 21, 'coffee': 22\n",
    "}\n",
    "crop['label_num'] = crop['label'].map(crop_dict)\n",
    "\n",
    "# Split data into features and labels\n",
    "X = crop.iloc[:, :-2]\n",
    "y = crop['label_num']\n",
    "\n",
    "# Split into training and testing sets\n",
    "X_train, X_test, y_train, y_test = train_test_split(X, y, test_size=0.2, random_state=42)\n",
    "\n",
    "# Scale features\n",
    "scaler = StandardScaler()\n",
    "X_train_scaled = scaler.fit_transform(X_train)\n",
    "X_test_scaled = scaler.transform(X_test)\n",
    "\n",
    "# Train classifiers\n",
    "rf_model = RandomForestClassifier()\n",
    "rf_model.fit(X_train_scaled, y_train)\n",
    "\n",
    "knn_model = KNeighborsClassifier(n_neighbors=5)\n",
    "knn_model.fit(X_train_scaled, y_train)\n",
    "\n",
    "# Define profit dictionary\n",
    "profit_dict = {\n",
    "    'rice': 5000, 'maize': 3000, 'jute': 2000, 'cotton': 3500, 'coconut': 4000,\n",
    "    'papaya': 2500, 'orange': 2800, 'apple': 6000, 'muskmelon': 1800,\n",
    "    'watermelon': 1500, 'grapes': 5500, 'mango': 7000, 'banana': 4500,\n",
    "    'pomegranate': 5000, 'lentil': 2200, 'blackgram': 2000, 'mungbean': 1500,\n",
    "    'mothbeans': 1300, 'pigeonpeas': 2200, 'kidneybeans': 2300, 'chickpea': 2500,\n",
    "    'coffee': 9000\n",
    "}"
   ]
  },
  {
   "cell_type": "code",
   "execution_count": 12,
   "metadata": {},
   "outputs": [],
   "source": [
    "#  Function for multiple crop prediction with probabilities\n",
    "def predict_crops(input_data):\n",
    "    \n",
    "    prediction = knn_model.predict(input_data)\n",
    "    probabilities = knn_model.predict_proba(input_data)\n",
    "\n",
    "    top_predictions = []\n",
    "    for prob in probabilities:\n",
    "        top2_indices = prob.argsort()[-4:][::-1]\n",
    "        prediction_for_input = []\n",
    "        for i in top2_indices:\n",
    "            crop_name = list(crop_dict.keys())[list(crop_dict.values()).index(i + 1)]\n",
    "            prediction_for_input.append((crop_name, prob[i]))\n",
    "        top_predictions.append(prediction_for_input)\n",
    "\n",
    "    return top_predictions\n",
    "\n",
    "\n",
    "# Function for land allocation and profit prediction\n",
    "def recommend_land_allocation(input_data, total_land_area):\n",
    "    top_crops = predict_crops(input_data)\n",
    "    total_profit = {crop: profit_dict.get(crop, 0) for crop, _ in top_crops[0]}\n",
    "\n",
    "    sorted_crops = sorted(total_profit.items(), key=lambda x: x[1], reverse=True)\n",
    "    land_allocations = {}\n",
    "    remaining_area = total_land_area\n",
    "    for crop, profit in sorted_crops:\n",
    "        allocated_land = remaining_area * (profit / sum([profit for _, profit in sorted_crops]))\n",
    "        land_allocations[crop] = allocated_land\n",
    "        remaining_area -= allocated_land\n",
    "\n",
    "    return land_allocations\n",
    "\n",
    "# Function to predict fertilizer\n",
    "fertilizer_dict = {\n",
    "    'rice': 'Urea', 'maize': 'DAP', 'jute': 'Potash', 'cotton': 'Super Phosphate',\n",
    "    'coconut': 'Ammonium Sulfate', 'papaya': 'Nitrogen Fertilizer',\n",
    "    'orange': 'NPK', 'apple': 'Calcium Nitrate', 'muskmelon': 'Zinc Sulfate',\n",
    "    'watermelon': 'Potash', 'grapes': 'Magnesium Sulfate', 'mango': 'Bio-fertilizers',\n",
    "    'banana': 'Organic Manure', 'pomegranate': 'DAP', 'lentil': 'Nitrogen Fertilizer',\n",
    "    'blackgram': 'Potash', 'mungbean': 'Urea', 'mothbeans': 'NPK',\n",
    "    'pigeonpeas': 'Phosphate Fertilizer', 'kidneybeans': 'Organic Manure',\n",
    "    'chickpea': 'Nitrogen Fertilizer', 'coffee': 'Ammonium Nitrate'\n",
    "}"
   ]
  },
  {
   "cell_type": "code",
   "execution_count": 16,
   "metadata": {},
   "outputs": [
    {
     "name": "stdout",
     "output_type": "stream",
     "text": [
      "Top crop predictions with probabilities: [[('rice', np.float64(1.0)), ('coffee', np.float64(0.0)), ('kidneybeans', np.float64(0.0)), ('pigeonpeas', np.float64(0.0))]]\n",
      "Land allocation recommendations (in acres): {'coffee': 4.864864864864865, 'rice': 1.3878743608473338, 'kidneybeans': 0.4658756638303753, 'pigeonpeas': 0.3902187698922345}\n",
      "Recommended fertilizer for rice: Urea\n"
     ]
    },
    {
     "name": "stderr",
     "output_type": "stream",
     "text": [
      "c:\\Users\\varun\\Downloads\\mds2\\.venv\\Lib\\site-packages\\sklearn\\utils\\validation.py:2732: UserWarning: X has feature names, but KNeighborsClassifier was fitted without feature names\n",
      "  warnings.warn(\n",
      "c:\\Users\\varun\\Downloads\\mds2\\.venv\\Lib\\site-packages\\sklearn\\utils\\validation.py:2732: UserWarning: X has feature names, but KNeighborsClassifier was fitted without feature names\n",
      "  warnings.warn(\n",
      "c:\\Users\\varun\\Downloads\\mds2\\.venv\\Lib\\site-packages\\sklearn\\utils\\validation.py:2732: UserWarning: X has feature names, but KNeighborsClassifier was fitted without feature names\n",
      "  warnings.warn(\n",
      "c:\\Users\\varun\\Downloads\\mds2\\.venv\\Lib\\site-packages\\sklearn\\utils\\validation.py:2732: UserWarning: X has feature names, but KNeighborsClassifier was fitted without feature names\n",
      "  warnings.warn(\n"
     ]
    }
   ],
   "source": [
    "# Example usage\n",
    "input_data = pd.DataFrame({\n",
    "    'N': [90], 'P': [42], 'K': [43], 'temperature': [23], 'humidity': [85],\n",
    "    'pH': [6.5], 'rainfall': [200]\n",
    "})\n",
    "\n",
    "total_land_area = 10\n",
    "\n",
    "# Predict crops\n",
    "top_crops = predict_crops(input_data)\n",
    "print(\"Top crop predictions with probabilities:\", top_crops)\n",
    "\n",
    "# Recommend land allocation\n",
    "land_allocations = recommend_land_allocation(input_data, total_land_area)\n",
    "print(\"Land allocation recommendations (in acres):\", land_allocations)\n",
    "\n",
    "# Recommend fertilizer for the top crop\n",
    "top_crop = top_crops[0][0][0]\n",
    "def recommend_fertilizer(crop_name):\n",
    "    return fertilizer_dict.get(crop_name, \"No specific recommendation\")\n",
    "fertilizer = recommend_fertilizer(top_crop)\n",
    "print(f\"Recommended fertilizer for {top_crop}: {fertilizer}\")\n",
    "\n"
   ]
  },
  {
   "cell_type": "code",
   "execution_count": null,
   "metadata": {},
   "outputs": [],
   "source": []
  }
 ],
 "metadata": {
  "kernelspec": {
   "display_name": ".venv",
   "language": "python",
   "name": "python3"
  },
  "language_info": {
   "codemirror_mode": {
    "name": "ipython",
    "version": 3
   },
   "file_extension": ".py",
   "mimetype": "text/x-python",
   "name": "python",
   "nbconvert_exporter": "python",
   "pygments_lexer": "ipython3",
   "version": "3.12.3"
  }
 },
 "nbformat": 4,
 "nbformat_minor": 2
}
